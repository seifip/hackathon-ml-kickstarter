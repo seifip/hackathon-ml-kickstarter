{
  "cells": [
    {
      "cell_type": "code",
      "source": [
        "import pandas as pd\n",
        "import numpy as np\n",
        "from datetime import datetime, timezone\n",
        "from currency_converter import CurrencyConverter\n",
        "from sklearn.model_selection import train_test_split\n",
        "from sklearn.naive_bayes import GaussianNB\n",
        "from sklearn.ensemble import RandomForestClassifier\n",
        "from sklearn.ensemble import AdaBoostClassifier\n",
        "from sklearn import svm"
      ],
      "outputs": [],
      "execution_count": 37,
      "metadata": {
        "collapsed": false,
        "deletable": true,
        "editable": true
      }
    },
    {
      "cell_type": "markdown",
      "source": [
        "### load data"
      ],
      "metadata": {
        "deletable": true,
        "editable": true
      }
    },
    {
      "cell_type": "code",
      "source": [
        "train = pd.read_csv(\"./input/train.csv\")\n",
        "test = pd.read_csv(\"./input/test.csv\")"
      ],
      "outputs": [],
      "execution_count": 38,
      "metadata": {
        "collapsed": true,
        "deletable": true,
        "editable": true
      }
    },
    {
      "cell_type": "code",
      "source": [
        "print ('The train data has {} rows and {} columns'.format(train.shape[0],train.shape[1]))\n",
        "print ('The test data has {} rows and {} columns'.format(test.shape[0],test.shape[1]))"
      ],
      "outputs": [
        {
          "output_type": "stream",
          "name": "stdout",
          "text": [
            "The train data has 108129 rows and 14 columns\n",
            "The test data has 63465 rows and 12 columns\n"
          ]
        }
      ],
      "execution_count": 39,
      "metadata": {
        "collapsed": false,
        "deletable": true,
        "editable": true
      }
    },
    {
      "cell_type": "markdown",
      "source": [
        "### convert time to unix format"
      ],
      "metadata": {
        "deletable": true,
        "editable": true
      }
    },
    {
      "cell_type": "code",
      "source": [
        "import time\n",
        "\n",
        "unix_cols = ['deadline','state_changed_at','launched_at','created_at']\n",
        "\n",
        "for x in unix_cols:\n",
        "    train[x] = train[x].apply(lambda k: datetime.fromtimestamp(k, timezone.utc))\n",
        "    test[x] = test[x].apply(lambda k: datetime.fromtimestamp(k, timezone.utc))"
      ],
      "outputs": [],
      "execution_count": 40,
      "metadata": {
        "collapsed": true,
        "deletable": true,
        "editable": true
      }
    },
    {
      "cell_type": "markdown",
      "source": [
        "### convert goals to USD"
      ],
      "metadata": {}
    },
    {
      "cell_type": "code",
      "source": [
        "c = CurrencyConverter(fallback_on_wrong_date=True, fallback_on_missing_rate=True,)\n",
        "train['goal_usd'] = train[['goal', 'currency', 'created_at']].apply(lambda x: c.convert(x['goal'], x['currency'], 'USD', date=x['created_at']), axis=1)\n",
        "test['goal_usd'] = test[['goal', 'currency', 'created_at']].apply(lambda x: c.convert(x['goal'], x['currency'], 'USD', date=x['created_at']), axis=1)\n"
      ],
      "outputs": [],
      "execution_count": 41,
      "metadata": {
        "collapsed": false,
        "outputHidden": false,
        "inputHidden": false
      }
    },
    {
      "cell_type": "markdown",
      "source": [
        "### create simple features"
      ],
      "metadata": {
        "deletable": true,
        "editable": true
      }
    },
    {
      "cell_type": "code",
      "source": [
        "cols_to_use = ['name','desc']\n",
        "len_feats = ['name_len','desc_len']\n",
        "count_feats = ['name_count','desc_count']"
      ],
      "outputs": [],
      "execution_count": 43,
      "metadata": {
        "collapsed": false,
        "deletable": true,
        "editable": true
      }
    },
    {
      "cell_type": "code",
      "source": [
        "for i in np.arange(2):\n",
        "    train[len_feats[i]] = train[cols_to_use[i]].apply(str).apply(len)\n",
        "    train[count_feats[i]] = train[cols_to_use[i]].apply(str).apply(lambda x: len(x.split(' ')))\n",
        "    \n",
        "train['keywords_len'] = train['keywords'].apply(str).apply(len)\n",
        "train['keywords_count'] = train['keywords'].apply(str).apply(lambda x: len(x.split('-')))"
      ],
      "outputs": [],
      "execution_count": 44,
      "metadata": {
        "collapsed": true,
        "deletable": true,
        "editable": true
      }
    },
    {
      "cell_type": "code",
      "source": [
        "for i in np.arange(2):\n",
        "    test[len_feats[i]] = test[cols_to_use[i]].apply(str).apply(len)\n",
        "    test[count_feats[i]] = test[cols_to_use[i]].apply(str).apply(lambda x: len(x.split(' ')))\n",
        "    \n",
        "test['keywords_len'] = test['keywords'].apply(str).apply(len)\n",
        "test['keywords_count'] = test['keywords'].apply(str).apply(lambda x: len(x.split('-')))"
      ],
      "outputs": [],
      "execution_count": 45,
      "metadata": {
        "collapsed": false
      }
    },
    {
      "cell_type": "code",
      "source": [
        "# capital letters in project name\n",
        "\n",
        "train['name_capitals'] = train['name'].str.count('[A-Z]')\n",
        "test['name_capitals'] = test['name'].str.count('[A-Z]')\n",
        "\n",
        "# digits in project name\n",
        "\n",
        "train['name_digits'] = train['name'].str.count('[0-9]')\n",
        "test['name_digits'] = test['name'].str.count('[0-9]')\n",
        "\n",
        "train['name_digits_any'] = train['name_digits'].apply(lambda x: int(x > 0))\n",
        "test['name_digits_any'] = test['name_digits'].apply(lambda x: int(x > 0))\n",
        "\ntrain = train[pd.notnull(train['name_capitals'])]"
      ],
      "outputs": [],
      "execution_count": 47,
      "metadata": {
        "collapsed": false,
        "outputHidden": false,
        "inputHidden": false
      }
    },
    {
      "cell_type": "code",
      "source": [
        "# ration of digits in project description\n",
        "\n",
        "train['desc_digits'] = train['desc'].str.count('[0-9]')\n",
        "test['desc_digits'] = test['desc'].str.count('[0-9]')\n",
        "\ntrain = train[pd.notnull(train['desc_digits'])]"
      ],
      "outputs": [],
      "execution_count": 49,
      "metadata": {
        "collapsed": false,
        "outputHidden": false,
        "inputHidden": false
      }
    },
    {
      "cell_type": "code",
      "source": [
        "# campaign start week day\n",
        "\n",
        "train['launched_at_weekday'] = train['launched_at'].apply(lambda x: x.weekday())\n",
        "test['launched_at_weekday'] = test['launched_at'].apply(lambda x: x.weekday())\n",
        "\n",
        "# deadline week day\n",
        "\n",
        "train['deadline_weekday'] = train['deadline'].apply(lambda x: x.weekday())\n",
        "test['deadline_weekday'] = test['deadline'].apply(lambda x: x.weekday())"
      ],
      "outputs": [],
      "execution_count": 50,
      "metadata": {
        "collapsed": false,
        "outputHidden": false,
        "inputHidden": false
      }
    },
    {
      "cell_type": "code",
      "source": [
        "# campaign length\n",
        "\n",
        "train['campaign_len'] = (train['deadline'] - train['launched_at'])\n",
        "test['campaign_len'] = (test['deadline'] - test['launched_at'])\n",
        "\n",
        "train['campaign_len'] = train['campaign_len'].apply(lambda x: pd.tslib.Timedelta(x).days)\n",
        "test['campaign_len'] = test['campaign_len'].apply(lambda x: pd.tslib.Timedelta(x).days)"
      ],
      "outputs": [],
      "execution_count": 51,
      "metadata": {
        "collapsed": false,
        "outputHidden": false,
        "inputHidden": false
      }
    },
    {
      "cell_type": "markdown",
      "source": [
        "### encoding features"
      ],
      "metadata": {
        "deletable": true,
        "editable": true
      }
    },
    {
      "cell_type": "code",
      "source": [
        "from sklearn.preprocessing import LabelEncoder\n",
        "\n",
        "feat = ['disable_communication','country']\n",
        "for x in feat:\n",
        "    le = LabelEncoder()\n",
        "    le.fit(list(train[x]) + list(test[x]))\n",
        "    train[x] = le.transform(list(train[x]))\n",
        "    test[x] = le.transform(list(test[x]))"
      ],
      "outputs": [],
      "execution_count": 52,
      "metadata": {
        "collapsed": false,
        "deletable": true,
        "editable": true
      }
    },
    {
      "cell_type": "markdown",
      "source": [
        "### train/test split"
      ],
      "metadata": {}
    },
    {
      "cell_type": "code",
      "source": [
        "train_params, test_params, train_labels, test_labels = train_test_split(train, train['final_status'], train_size=0.8, random_state=1)\n",
        "\n",
        "cols_to_use = ['goal_usd'\n",
        "              ,'campaign_len'\n",
        "             ,'country'\n",
        "             #,'name_len'\n",
        "             #,'desc_len'\n",
        "             #,'keywords_len'\n",
        "             #,'name_count'\n",
        "             ,'desc_count'\n",
        "             ,'keywords_count'\n",
        "             #,'launched_at_weekday'\n",
        "             #,'deadline_weekday'\n",
        "             #,'name_digits'\n",
        "             #,'desc_digits'\n",
        "             ,'name_digits_any'\n",
        "             ]\n",
        "\n",
        "train_params = train_params[cols_to_use]\n",
        "test_params = test_params[cols_to_use]"
      ],
      "outputs": [],
      "execution_count": 66,
      "metadata": {
        "collapsed": false,
        "outputHidden": false,
        "inputHidden": false
      }
    },
    {
      "cell_type": "markdown",
      "source": [
        "### classify"
      ],
      "metadata": {}
    },
    {
      "cell_type": "code",
      "source": [
        "clf = AdaBoostClassifier(n_estimators=200)\n",
        "clf.fit(train_params, train_labels)\n",
        "clf.score(test_params, test_labels)"
      ],
      "outputs": [
        {
          "output_type": "execute_result",
          "execution_count": 67,
          "data": {
            "text/plain": [
              "0.6910982658959538"
            ]
          },
          "metadata": {}
        }
      ],
      "execution_count": 67,
      "metadata": {
        "collapsed": false,
        "outputHidden": false,
        "inputHidden": false
      }
    },
    {
      "cell_type": "markdown",
      "source": [
        "### predict & write to csv"
      ],
      "metadata": {}
    },
    {
      "cell_type": "code",
      "source": [
        "print ('The test data has {} rows and {} columns'.format(test.shape[0],test.shape[1]))"
      ],
      "outputs": [
        {
          "output_type": "stream",
          "name": "stdout",
          "text": [
            "The test data has 63465 rows and 26 columns\n"
          ]
        }
      ],
      "execution_count": 62,
      "metadata": {
        "collapsed": false,
        "outputHidden": false,
        "inputHidden": false
      }
    },
    {
      "cell_type": "code",
      "source": [
        "clf = AdaBoostClassifier(n_estimators=200)\n",
        "ada_pred = clf.fit(train[cols_to_use], train['final_status']).predict(test[cols_to_use])\n",
        "\n",
        "adaSub = pd.DataFrame({'project_id':test['project_id'],'final_status':ada_pred})\n",
        "adaSub = adaSub[['project_id','final_status']]\n",
        "adaSub.to_csv(\"./output/adaBoost.csv\",index = False)"
      ],
      "outputs": [],
      "execution_count": 63,
      "metadata": {
        "collapsed": false
      }
    }
  ],
  "metadata": {
    "kernelspec": {
      "name": "python3",
      "language": "python",
      "display_name": "Python 3"
    },
    "language_info": {
      "name": "python",
      "version": "3.6.0",
      "mimetype": "text/x-python",
      "codemirror_mode": {
        "name": "ipython",
        "version": 3
      },
      "pygments_lexer": "ipython3",
      "nbconvert_exporter": "python",
      "file_extension": ".py"
    },
    "kernel_info": {
      "name": "python3"
    }
  },
  "nbformat": 4,
  "nbformat_minor": 2
}